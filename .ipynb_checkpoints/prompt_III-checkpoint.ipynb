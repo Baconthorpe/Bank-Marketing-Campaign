{
 "cells": [
  {
   "cell_type": "markdown",
   "metadata": {},
   "source": [
    "# Practical Application III: Comparing Classifiers\n",
    "\n",
    "**Overview**: In this practical application, your goal is to compare the performance of the classifiers we encountered in this section, namely K Nearest Neighbor, Logistic Regression, Decision Trees, and Support Vector Machines.  We will utilize a dataset related to marketing bank products over the telephone.  \n",
    "\n"
   ]
  },
  {
   "cell_type": "markdown",
   "metadata": {},
   "source": [
    "### Getting Started\n",
    "\n",
    "Our dataset comes from the UCI Machine Learning repository [link](https://archive.ics.uci.edu/ml/datasets/bank+marketing).  The data is from a Portugese banking institution and is a collection of the results of multiple marketing campaigns.  We will make use of the article accompanying the dataset [here](CRISP-DM-BANK.pdf) for more information on the data and features.\n",
    "\n"
   ]
  },
  {
   "cell_type": "markdown",
   "metadata": {},
   "source": [
    "### Problem 1: Understanding the Data\n",
    "\n",
    "To gain a better understanding of the data, please read the information provided in the UCI link above, and examine the **Materials and Methods** section of the paper.  How many marketing campaigns does this data represent?"
   ]
  },
  {
   "cell_type": "code",
   "execution_count": 2,
   "metadata": {},
   "outputs": [
    {
     "data": {
      "text/plain": [
       "43"
      ]
     },
     "execution_count": 2,
     "metadata": {},
     "output_type": "execute_result"
    }
   ],
   "source": [
    "43"
   ]
  },
  {
   "cell_type": "markdown",
   "metadata": {},
   "source": [
    "### Problem 2: Read in the Data\n",
    "\n",
    "Use pandas to read in the dataset `bank-additional-full.csv` and assign to a meaningful variable name."
   ]
  },
  {
   "cell_type": "code",
   "execution_count": 3,
   "metadata": {},
   "outputs": [],
   "source": [
    "import pandas as pd"
   ]
  },
  {
   "cell_type": "code",
   "execution_count": 4,
   "metadata": {},
   "outputs": [],
   "source": [
    "df = pd.read_csv('data/bank-additional-full.csv', sep = ';')"
   ]
  },
  {
   "cell_type": "code",
   "execution_count": 5,
   "metadata": {},
   "outputs": [
    {
     "data": {
      "text/html": [
       "<div>\n",
       "<style scoped>\n",
       "    .dataframe tbody tr th:only-of-type {\n",
       "        vertical-align: middle;\n",
       "    }\n",
       "\n",
       "    .dataframe tbody tr th {\n",
       "        vertical-align: top;\n",
       "    }\n",
       "\n",
       "    .dataframe thead th {\n",
       "        text-align: right;\n",
       "    }\n",
       "</style>\n",
       "<table border=\"1\" class=\"dataframe\">\n",
       "  <thead>\n",
       "    <tr style=\"text-align: right;\">\n",
       "      <th></th>\n",
       "      <th>age</th>\n",
       "      <th>job</th>\n",
       "      <th>marital</th>\n",
       "      <th>education</th>\n",
       "      <th>default</th>\n",
       "      <th>housing</th>\n",
       "      <th>loan</th>\n",
       "      <th>contact</th>\n",
       "      <th>month</th>\n",
       "      <th>day_of_week</th>\n",
       "      <th>...</th>\n",
       "      <th>campaign</th>\n",
       "      <th>pdays</th>\n",
       "      <th>previous</th>\n",
       "      <th>poutcome</th>\n",
       "      <th>emp.var.rate</th>\n",
       "      <th>cons.price.idx</th>\n",
       "      <th>cons.conf.idx</th>\n",
       "      <th>euribor3m</th>\n",
       "      <th>nr.employed</th>\n",
       "      <th>y</th>\n",
       "    </tr>\n",
       "  </thead>\n",
       "  <tbody>\n",
       "    <tr>\n",
       "      <th>0</th>\n",
       "      <td>56</td>\n",
       "      <td>housemaid</td>\n",
       "      <td>married</td>\n",
       "      <td>basic.4y</td>\n",
       "      <td>no</td>\n",
       "      <td>no</td>\n",
       "      <td>no</td>\n",
       "      <td>telephone</td>\n",
       "      <td>may</td>\n",
       "      <td>mon</td>\n",
       "      <td>...</td>\n",
       "      <td>1</td>\n",
       "      <td>999</td>\n",
       "      <td>0</td>\n",
       "      <td>nonexistent</td>\n",
       "      <td>1.1</td>\n",
       "      <td>93.994</td>\n",
       "      <td>-36.4</td>\n",
       "      <td>4.857</td>\n",
       "      <td>5191.0</td>\n",
       "      <td>no</td>\n",
       "    </tr>\n",
       "    <tr>\n",
       "      <th>1</th>\n",
       "      <td>57</td>\n",
       "      <td>services</td>\n",
       "      <td>married</td>\n",
       "      <td>high.school</td>\n",
       "      <td>unknown</td>\n",
       "      <td>no</td>\n",
       "      <td>no</td>\n",
       "      <td>telephone</td>\n",
       "      <td>may</td>\n",
       "      <td>mon</td>\n",
       "      <td>...</td>\n",
       "      <td>1</td>\n",
       "      <td>999</td>\n",
       "      <td>0</td>\n",
       "      <td>nonexistent</td>\n",
       "      <td>1.1</td>\n",
       "      <td>93.994</td>\n",
       "      <td>-36.4</td>\n",
       "      <td>4.857</td>\n",
       "      <td>5191.0</td>\n",
       "      <td>no</td>\n",
       "    </tr>\n",
       "    <tr>\n",
       "      <th>2</th>\n",
       "      <td>37</td>\n",
       "      <td>services</td>\n",
       "      <td>married</td>\n",
       "      <td>high.school</td>\n",
       "      <td>no</td>\n",
       "      <td>yes</td>\n",
       "      <td>no</td>\n",
       "      <td>telephone</td>\n",
       "      <td>may</td>\n",
       "      <td>mon</td>\n",
       "      <td>...</td>\n",
       "      <td>1</td>\n",
       "      <td>999</td>\n",
       "      <td>0</td>\n",
       "      <td>nonexistent</td>\n",
       "      <td>1.1</td>\n",
       "      <td>93.994</td>\n",
       "      <td>-36.4</td>\n",
       "      <td>4.857</td>\n",
       "      <td>5191.0</td>\n",
       "      <td>no</td>\n",
       "    </tr>\n",
       "    <tr>\n",
       "      <th>3</th>\n",
       "      <td>40</td>\n",
       "      <td>admin.</td>\n",
       "      <td>married</td>\n",
       "      <td>basic.6y</td>\n",
       "      <td>no</td>\n",
       "      <td>no</td>\n",
       "      <td>no</td>\n",
       "      <td>telephone</td>\n",
       "      <td>may</td>\n",
       "      <td>mon</td>\n",
       "      <td>...</td>\n",
       "      <td>1</td>\n",
       "      <td>999</td>\n",
       "      <td>0</td>\n",
       "      <td>nonexistent</td>\n",
       "      <td>1.1</td>\n",
       "      <td>93.994</td>\n",
       "      <td>-36.4</td>\n",
       "      <td>4.857</td>\n",
       "      <td>5191.0</td>\n",
       "      <td>no</td>\n",
       "    </tr>\n",
       "    <tr>\n",
       "      <th>4</th>\n",
       "      <td>56</td>\n",
       "      <td>services</td>\n",
       "      <td>married</td>\n",
       "      <td>high.school</td>\n",
       "      <td>no</td>\n",
       "      <td>no</td>\n",
       "      <td>yes</td>\n",
       "      <td>telephone</td>\n",
       "      <td>may</td>\n",
       "      <td>mon</td>\n",
       "      <td>...</td>\n",
       "      <td>1</td>\n",
       "      <td>999</td>\n",
       "      <td>0</td>\n",
       "      <td>nonexistent</td>\n",
       "      <td>1.1</td>\n",
       "      <td>93.994</td>\n",
       "      <td>-36.4</td>\n",
       "      <td>4.857</td>\n",
       "      <td>5191.0</td>\n",
       "      <td>no</td>\n",
       "    </tr>\n",
       "  </tbody>\n",
       "</table>\n",
       "<p>5 rows × 21 columns</p>\n",
       "</div>"
      ],
      "text/plain": [
       "   age        job  marital    education  default housing loan    contact  \\\n",
       "0   56  housemaid  married     basic.4y       no      no   no  telephone   \n",
       "1   57   services  married  high.school  unknown      no   no  telephone   \n",
       "2   37   services  married  high.school       no     yes   no  telephone   \n",
       "3   40     admin.  married     basic.6y       no      no   no  telephone   \n",
       "4   56   services  married  high.school       no      no  yes  telephone   \n",
       "\n",
       "  month day_of_week  ...  campaign  pdays  previous     poutcome emp.var.rate  \\\n",
       "0   may         mon  ...         1    999         0  nonexistent          1.1   \n",
       "1   may         mon  ...         1    999         0  nonexistent          1.1   \n",
       "2   may         mon  ...         1    999         0  nonexistent          1.1   \n",
       "3   may         mon  ...         1    999         0  nonexistent          1.1   \n",
       "4   may         mon  ...         1    999         0  nonexistent          1.1   \n",
       "\n",
       "   cons.price.idx  cons.conf.idx  euribor3m  nr.employed   y  \n",
       "0          93.994          -36.4      4.857       5191.0  no  \n",
       "1          93.994          -36.4      4.857       5191.0  no  \n",
       "2          93.994          -36.4      4.857       5191.0  no  \n",
       "3          93.994          -36.4      4.857       5191.0  no  \n",
       "4          93.994          -36.4      4.857       5191.0  no  \n",
       "\n",
       "[5 rows x 21 columns]"
      ]
     },
     "execution_count": 5,
     "metadata": {},
     "output_type": "execute_result"
    }
   ],
   "source": [
    "df.head()"
   ]
  },
  {
   "cell_type": "code",
   "execution_count": null,
   "metadata": {},
   "outputs": [],
   "source": []
  },
  {
   "cell_type": "code",
   "execution_count": null,
   "metadata": {},
   "outputs": [],
   "source": []
  },
  {
   "cell_type": "markdown",
   "metadata": {},
   "source": [
    "### Problem 3: Understanding the Features\n",
    "\n",
    "\n",
    "Examine the data description below, and determine if any of the features are missing values or need to be coerced to a different data type.\n",
    "\n",
    "\n",
    "```\n",
    "Input variables:\n",
    "# bank client data:\n",
    "1 - age (numeric)\n",
    "2 - job : type of job (categorical: 'admin.','blue-collar','entrepreneur','housemaid','management','retired','self-employed','services','student','technician','unemployed','unknown')\n",
    "3 - marital : marital status (categorical: 'divorced','married','single','unknown'; note: 'divorced' means divorced or widowed)\n",
    "4 - education (categorical: 'basic.4y','basic.6y','basic.9y','high.school','illiterate','professional.course','university.degree','unknown')\n",
    "5 - default: has credit in default? (categorical: 'no','yes','unknown')\n",
    "6 - housing: has housing loan? (categorical: 'no','yes','unknown')\n",
    "7 - loan: has personal loan? (categorical: 'no','yes','unknown')\n",
    "# related with the last contact of the current campaign:\n",
    "8 - contact: contact communication type (categorical: 'cellular','telephone')\n",
    "9 - month: last contact month of year (categorical: 'jan', 'feb', 'mar', ..., 'nov', 'dec')\n",
    "10 - day_of_week: last contact day of the week (categorical: 'mon','tue','wed','thu','fri')\n",
    "11 - duration: last contact duration, in seconds (numeric). Important note: this attribute highly affects the output target (e.g., if duration=0 then y='no'). Yet, the duration is not known before a call is performed. Also, after the end of the call y is obviously known. Thus, this input should only be included for benchmark purposes and should be discarded if the intention is to have a realistic predictive model.\n",
    "# other attributes:\n",
    "12 - campaign: number of contacts performed during this campaign and for this client (numeric, includes last contact)\n",
    "13 - pdays: number of days that passed by after the client was last contacted from a previous campaign (numeric; 999 means client was not previously contacted)\n",
    "14 - previous: number of contacts performed before this campaign and for this client (numeric)\n",
    "15 - poutcome: outcome of the previous marketing campaign (categorical: 'failure','nonexistent','success')\n",
    "# social and economic context attributes\n",
    "16 - emp.var.rate: employment variation rate - quarterly indicator (numeric)\n",
    "17 - cons.price.idx: consumer price index - monthly indicator (numeric)\n",
    "18 - cons.conf.idx: consumer confidence index - monthly indicator (numeric)\n",
    "19 - euribor3m: euribor 3 month rate - daily indicator (numeric)\n",
    "20 - nr.employed: number of employees - quarterly indicator (numeric)\n",
    "\n",
    "Output variable (desired target):\n",
    "21 - y - has the client subscribed a term deposit? (binary: 'yes','no')\n",
    "```\n",
    "\n"
   ]
  },
  {
   "cell_type": "code",
   "execution_count": 6,
   "metadata": {},
   "outputs": [
    {
     "data": {
      "text/plain": [
       "age               0\n",
       "job               0\n",
       "marital           0\n",
       "education         0\n",
       "default           0\n",
       "housing           0\n",
       "loan              0\n",
       "contact           0\n",
       "month             0\n",
       "day_of_week       0\n",
       "duration          0\n",
       "campaign          0\n",
       "pdays             0\n",
       "previous          0\n",
       "poutcome          0\n",
       "emp.var.rate      0\n",
       "cons.price.idx    0\n",
       "cons.conf.idx     0\n",
       "euribor3m         0\n",
       "nr.employed       0\n",
       "y                 0\n",
       "dtype: int64"
      ]
     },
     "execution_count": 6,
     "metadata": {},
     "output_type": "execute_result"
    }
   ],
   "source": [
    "df.isna().sum()"
   ]
  },
  {
   "cell_type": "code",
   "execution_count": null,
   "metadata": {},
   "outputs": [],
   "source": [
    "# There is no missing data, though the object features will have to change in preprocessing\n",
    "# and the numeric features will need to be scaled."
   ]
  },
  {
   "cell_type": "markdown",
   "metadata": {},
   "source": [
    "### Problem 4: Understanding the Task\n",
    "\n",
    "After examining the description and data, your goal now is to clearly state the *Business Objective* of the task.  State the objective below."
   ]
  },
  {
   "cell_type": "code",
   "execution_count": 7,
   "metadata": {},
   "outputs": [
    {
     "name": "stdout",
     "output_type": "stream",
     "text": [
      "<class 'pandas.core.frame.DataFrame'>\n",
      "RangeIndex: 41188 entries, 0 to 41187\n",
      "Data columns (total 21 columns):\n",
      " #   Column          Non-Null Count  Dtype  \n",
      "---  ------          --------------  -----  \n",
      " 0   age             41188 non-null  int64  \n",
      " 1   job             41188 non-null  object \n",
      " 2   marital         41188 non-null  object \n",
      " 3   education       41188 non-null  object \n",
      " 4   default         41188 non-null  object \n",
      " 5   housing         41188 non-null  object \n",
      " 6   loan            41188 non-null  object \n",
      " 7   contact         41188 non-null  object \n",
      " 8   month           41188 non-null  object \n",
      " 9   day_of_week     41188 non-null  object \n",
      " 10  duration        41188 non-null  int64  \n",
      " 11  campaign        41188 non-null  int64  \n",
      " 12  pdays           41188 non-null  int64  \n",
      " 13  previous        41188 non-null  int64  \n",
      " 14  poutcome        41188 non-null  object \n",
      " 15  emp.var.rate    41188 non-null  float64\n",
      " 16  cons.price.idx  41188 non-null  float64\n",
      " 17  cons.conf.idx   41188 non-null  float64\n",
      " 18  euribor3m       41188 non-null  float64\n",
      " 19  nr.employed     41188 non-null  float64\n",
      " 20  y               41188 non-null  object \n",
      "dtypes: float64(5), int64(5), object(11)\n",
      "memory usage: 6.6+ MB\n"
     ]
    }
   ],
   "source": [
    "df.info()"
   ]
  },
  {
   "cell_type": "code",
   "execution_count": 7,
   "metadata": {},
   "outputs": [],
   "source": [
    "# The goal is to build a model for what qualities in a targeted consumer contribute to\n",
    "# a successful marketing campaign. The feature \"y\" denotes if a customer purchased\n",
    "# the marketed product and the other features should be considered for their ability\n",
    "# to predict that outcome."
   ]
  },
  {
   "cell_type": "code",
   "execution_count": null,
   "metadata": {},
   "outputs": [],
   "source": []
  },
  {
   "cell_type": "markdown",
   "metadata": {},
   "source": [
    "### Problem 5: Engineering Features\n",
    "\n",
    "Now that you understand your business objective, we will build a basic model to get started.  Before we can do this, we must work to encode the data.  Using just the bank information features, prepare the features and target column for modeling with appropriate encoding and transformations."
   ]
  },
  {
   "cell_type": "code",
   "execution_count": 8,
   "metadata": {},
   "outputs": [],
   "source": [
    "from sklearn.preprocessing import OneHotEncoder, StandardScaler\n",
    "from sklearn.pipeline import Pipeline\n",
    "from sklearn.compose import ColumnTransformer"
   ]
  },
  {
   "cell_type": "code",
   "execution_count": 9,
   "metadata": {},
   "outputs": [
    {
     "data": {
      "text/plain": [
       "array([1., 1., 1., ..., 1., 1., 1.])"
      ]
     },
     "execution_count": 9,
     "metadata": {},
     "output_type": "execute_result"
    }
   ],
   "source": [
    "onehot = OneHotEncoder(drop='if_binary')\n",
    "onehot_encoded = onehot.fit_transform(df)\n",
    "onehot_encoded.data"
   ]
  },
  {
   "cell_type": "code",
   "execution_count": 10,
   "metadata": {},
   "outputs": [
    {
     "data": {
      "text/plain": [
       "['age',\n",
       " 'duration',\n",
       " 'campaign',\n",
       " 'pdays',\n",
       " 'previous',\n",
       " 'emp.var.rate',\n",
       " 'cons.price.idx',\n",
       " 'cons.conf.idx',\n",
       " 'euribor3m',\n",
       " 'nr.employed']"
      ]
     },
     "execution_count": 10,
     "metadata": {},
     "output_type": "execute_result"
    }
   ],
   "source": [
    "df.select_dtypes('number').columns.tolist()"
   ]
  },
  {
   "cell_type": "code",
   "execution_count": 11,
   "metadata": {},
   "outputs": [
    {
     "data": {
      "text/plain": [
       "array([[ 1.53303429,  0.01047142, -0.56592197, ...,  1.        ,\n",
       "         0.        ,  0.        ],\n",
       "       [ 1.62899323, -0.42150051, -0.56592197, ...,  1.        ,\n",
       "         0.        ,  0.        ],\n",
       "       [-0.29018564, -0.12451981, -0.56592197, ...,  1.        ,\n",
       "         0.        ,  0.        ],\n",
       "       ...,\n",
       "       [ 1.53303429, -0.26722482, -0.20490853, ...,  1.        ,\n",
       "         0.        ,  0.        ],\n",
       "       [ 0.38152696,  0.70856893, -0.56592197, ...,  1.        ,\n",
       "         0.        ,  1.        ],\n",
       "       [ 3.26029527, -0.07438021,  0.15610492, ...,  0.        ,\n",
       "         0.        ,  0.        ]])"
      ]
     },
     "execution_count": 11,
     "metadata": {},
     "output_type": "execute_result"
    }
   ],
   "source": [
    "numerical_features = df.select_dtypes('number').columns.tolist()\n",
    "categorical_features = df.select_dtypes('object').columns.tolist()\n",
    "\n",
    "preprocessor = ColumnTransformer(\n",
    "    transformers=[\n",
    "        ('num', StandardScaler(), numerical_features),\n",
    "        ('cat', OneHotEncoder(drop='if_binary'), categorical_features)\n",
    "    ]\n",
    ")\n",
    "preprocessed_data = preprocessor.fit_transform(df)\n",
    "preprocessed_data"
   ]
  },
  {
   "cell_type": "code",
   "execution_count": 12,
   "metadata": {},
   "outputs": [
    {
     "data": {
      "text/html": [
       "<div>\n",
       "<style scoped>\n",
       "    .dataframe tbody tr th:only-of-type {\n",
       "        vertical-align: middle;\n",
       "    }\n",
       "\n",
       "    .dataframe tbody tr th {\n",
       "        vertical-align: top;\n",
       "    }\n",
       "\n",
       "    .dataframe thead th {\n",
       "        text-align: right;\n",
       "    }\n",
       "</style>\n",
       "<table border=\"1\" class=\"dataframe\">\n",
       "  <thead>\n",
       "    <tr style=\"text-align: right;\">\n",
       "      <th></th>\n",
       "      <th>age</th>\n",
       "      <th>duration</th>\n",
       "      <th>campaign</th>\n",
       "      <th>pdays</th>\n",
       "      <th>previous</th>\n",
       "      <th>emp.var.rate</th>\n",
       "      <th>cons.price.idx</th>\n",
       "      <th>cons.conf.idx</th>\n",
       "      <th>euribor3m</th>\n",
       "      <th>nr.employed</th>\n",
       "      <th>...</th>\n",
       "      <th>month_sep</th>\n",
       "      <th>day_of_week_fri</th>\n",
       "      <th>day_of_week_mon</th>\n",
       "      <th>day_of_week_thu</th>\n",
       "      <th>day_of_week_tue</th>\n",
       "      <th>day_of_week_wed</th>\n",
       "      <th>poutcome_failure</th>\n",
       "      <th>poutcome_nonexistent</th>\n",
       "      <th>poutcome_success</th>\n",
       "      <th>y_yes</th>\n",
       "    </tr>\n",
       "  </thead>\n",
       "  <tbody>\n",
       "    <tr>\n",
       "      <th>0</th>\n",
       "      <td>1.533034</td>\n",
       "      <td>0.010471</td>\n",
       "      <td>-0.565922</td>\n",
       "      <td>0.195414</td>\n",
       "      <td>-0.349494</td>\n",
       "      <td>0.648092</td>\n",
       "      <td>0.722722</td>\n",
       "      <td>0.886447</td>\n",
       "      <td>0.712460</td>\n",
       "      <td>0.331680</td>\n",
       "      <td>...</td>\n",
       "      <td>0.0</td>\n",
       "      <td>0.0</td>\n",
       "      <td>1.0</td>\n",
       "      <td>0.0</td>\n",
       "      <td>0.0</td>\n",
       "      <td>0.0</td>\n",
       "      <td>0.0</td>\n",
       "      <td>1.0</td>\n",
       "      <td>0.0</td>\n",
       "      <td>0.0</td>\n",
       "    </tr>\n",
       "    <tr>\n",
       "      <th>1</th>\n",
       "      <td>1.628993</td>\n",
       "      <td>-0.421501</td>\n",
       "      <td>-0.565922</td>\n",
       "      <td>0.195414</td>\n",
       "      <td>-0.349494</td>\n",
       "      <td>0.648092</td>\n",
       "      <td>0.722722</td>\n",
       "      <td>0.886447</td>\n",
       "      <td>0.712460</td>\n",
       "      <td>0.331680</td>\n",
       "      <td>...</td>\n",
       "      <td>0.0</td>\n",
       "      <td>0.0</td>\n",
       "      <td>1.0</td>\n",
       "      <td>0.0</td>\n",
       "      <td>0.0</td>\n",
       "      <td>0.0</td>\n",
       "      <td>0.0</td>\n",
       "      <td>1.0</td>\n",
       "      <td>0.0</td>\n",
       "      <td>0.0</td>\n",
       "    </tr>\n",
       "    <tr>\n",
       "      <th>2</th>\n",
       "      <td>-0.290186</td>\n",
       "      <td>-0.124520</td>\n",
       "      <td>-0.565922</td>\n",
       "      <td>0.195414</td>\n",
       "      <td>-0.349494</td>\n",
       "      <td>0.648092</td>\n",
       "      <td>0.722722</td>\n",
       "      <td>0.886447</td>\n",
       "      <td>0.712460</td>\n",
       "      <td>0.331680</td>\n",
       "      <td>...</td>\n",
       "      <td>0.0</td>\n",
       "      <td>0.0</td>\n",
       "      <td>1.0</td>\n",
       "      <td>0.0</td>\n",
       "      <td>0.0</td>\n",
       "      <td>0.0</td>\n",
       "      <td>0.0</td>\n",
       "      <td>1.0</td>\n",
       "      <td>0.0</td>\n",
       "      <td>0.0</td>\n",
       "    </tr>\n",
       "    <tr>\n",
       "      <th>3</th>\n",
       "      <td>-0.002309</td>\n",
       "      <td>-0.413787</td>\n",
       "      <td>-0.565922</td>\n",
       "      <td>0.195414</td>\n",
       "      <td>-0.349494</td>\n",
       "      <td>0.648092</td>\n",
       "      <td>0.722722</td>\n",
       "      <td>0.886447</td>\n",
       "      <td>0.712460</td>\n",
       "      <td>0.331680</td>\n",
       "      <td>...</td>\n",
       "      <td>0.0</td>\n",
       "      <td>0.0</td>\n",
       "      <td>1.0</td>\n",
       "      <td>0.0</td>\n",
       "      <td>0.0</td>\n",
       "      <td>0.0</td>\n",
       "      <td>0.0</td>\n",
       "      <td>1.0</td>\n",
       "      <td>0.0</td>\n",
       "      <td>0.0</td>\n",
       "    </tr>\n",
       "    <tr>\n",
       "      <th>4</th>\n",
       "      <td>1.533034</td>\n",
       "      <td>0.187888</td>\n",
       "      <td>-0.565922</td>\n",
       "      <td>0.195414</td>\n",
       "      <td>-0.349494</td>\n",
       "      <td>0.648092</td>\n",
       "      <td>0.722722</td>\n",
       "      <td>0.886447</td>\n",
       "      <td>0.712460</td>\n",
       "      <td>0.331680</td>\n",
       "      <td>...</td>\n",
       "      <td>0.0</td>\n",
       "      <td>0.0</td>\n",
       "      <td>1.0</td>\n",
       "      <td>0.0</td>\n",
       "      <td>0.0</td>\n",
       "      <td>0.0</td>\n",
       "      <td>0.0</td>\n",
       "      <td>1.0</td>\n",
       "      <td>0.0</td>\n",
       "      <td>0.0</td>\n",
       "    </tr>\n",
       "    <tr>\n",
       "      <th>...</th>\n",
       "      <td>...</td>\n",
       "      <td>...</td>\n",
       "      <td>...</td>\n",
       "      <td>...</td>\n",
       "      <td>...</td>\n",
       "      <td>...</td>\n",
       "      <td>...</td>\n",
       "      <td>...</td>\n",
       "      <td>...</td>\n",
       "      <td>...</td>\n",
       "      <td>...</td>\n",
       "      <td>...</td>\n",
       "      <td>...</td>\n",
       "      <td>...</td>\n",
       "      <td>...</td>\n",
       "      <td>...</td>\n",
       "      <td>...</td>\n",
       "      <td>...</td>\n",
       "      <td>...</td>\n",
       "      <td>...</td>\n",
       "      <td>...</td>\n",
       "    </tr>\n",
       "    <tr>\n",
       "      <th>41183</th>\n",
       "      <td>3.164336</td>\n",
       "      <td>0.292025</td>\n",
       "      <td>-0.565922</td>\n",
       "      <td>0.195414</td>\n",
       "      <td>-0.349494</td>\n",
       "      <td>-0.752343</td>\n",
       "      <td>2.058168</td>\n",
       "      <td>-2.224953</td>\n",
       "      <td>-1.495186</td>\n",
       "      <td>-2.815697</td>\n",
       "      <td>...</td>\n",
       "      <td>0.0</td>\n",
       "      <td>1.0</td>\n",
       "      <td>0.0</td>\n",
       "      <td>0.0</td>\n",
       "      <td>0.0</td>\n",
       "      <td>0.0</td>\n",
       "      <td>0.0</td>\n",
       "      <td>1.0</td>\n",
       "      <td>0.0</td>\n",
       "      <td>1.0</td>\n",
       "    </tr>\n",
       "    <tr>\n",
       "      <th>41184</th>\n",
       "      <td>0.573445</td>\n",
       "      <td>0.481012</td>\n",
       "      <td>-0.565922</td>\n",
       "      <td>0.195414</td>\n",
       "      <td>-0.349494</td>\n",
       "      <td>-0.752343</td>\n",
       "      <td>2.058168</td>\n",
       "      <td>-2.224953</td>\n",
       "      <td>-1.495186</td>\n",
       "      <td>-2.815697</td>\n",
       "      <td>...</td>\n",
       "      <td>0.0</td>\n",
       "      <td>1.0</td>\n",
       "      <td>0.0</td>\n",
       "      <td>0.0</td>\n",
       "      <td>0.0</td>\n",
       "      <td>0.0</td>\n",
       "      <td>0.0</td>\n",
       "      <td>1.0</td>\n",
       "      <td>0.0</td>\n",
       "      <td>0.0</td>\n",
       "    </tr>\n",
       "    <tr>\n",
       "      <th>41185</th>\n",
       "      <td>1.533034</td>\n",
       "      <td>-0.267225</td>\n",
       "      <td>-0.204909</td>\n",
       "      <td>0.195414</td>\n",
       "      <td>-0.349494</td>\n",
       "      <td>-0.752343</td>\n",
       "      <td>2.058168</td>\n",
       "      <td>-2.224953</td>\n",
       "      <td>-1.495186</td>\n",
       "      <td>-2.815697</td>\n",
       "      <td>...</td>\n",
       "      <td>0.0</td>\n",
       "      <td>1.0</td>\n",
       "      <td>0.0</td>\n",
       "      <td>0.0</td>\n",
       "      <td>0.0</td>\n",
       "      <td>0.0</td>\n",
       "      <td>0.0</td>\n",
       "      <td>1.0</td>\n",
       "      <td>0.0</td>\n",
       "      <td>0.0</td>\n",
       "    </tr>\n",
       "    <tr>\n",
       "      <th>41186</th>\n",
       "      <td>0.381527</td>\n",
       "      <td>0.708569</td>\n",
       "      <td>-0.565922</td>\n",
       "      <td>0.195414</td>\n",
       "      <td>-0.349494</td>\n",
       "      <td>-0.752343</td>\n",
       "      <td>2.058168</td>\n",
       "      <td>-2.224953</td>\n",
       "      <td>-1.495186</td>\n",
       "      <td>-2.815697</td>\n",
       "      <td>...</td>\n",
       "      <td>0.0</td>\n",
       "      <td>1.0</td>\n",
       "      <td>0.0</td>\n",
       "      <td>0.0</td>\n",
       "      <td>0.0</td>\n",
       "      <td>0.0</td>\n",
       "      <td>0.0</td>\n",
       "      <td>1.0</td>\n",
       "      <td>0.0</td>\n",
       "      <td>1.0</td>\n",
       "    </tr>\n",
       "    <tr>\n",
       "      <th>41187</th>\n",
       "      <td>3.260295</td>\n",
       "      <td>-0.074380</td>\n",
       "      <td>0.156105</td>\n",
       "      <td>0.195414</td>\n",
       "      <td>1.671136</td>\n",
       "      <td>-0.752343</td>\n",
       "      <td>2.058168</td>\n",
       "      <td>-2.224953</td>\n",
       "      <td>-1.495186</td>\n",
       "      <td>-2.815697</td>\n",
       "      <td>...</td>\n",
       "      <td>0.0</td>\n",
       "      <td>1.0</td>\n",
       "      <td>0.0</td>\n",
       "      <td>0.0</td>\n",
       "      <td>0.0</td>\n",
       "      <td>0.0</td>\n",
       "      <td>1.0</td>\n",
       "      <td>0.0</td>\n",
       "      <td>0.0</td>\n",
       "      <td>0.0</td>\n",
       "    </tr>\n",
       "  </tbody>\n",
       "</table>\n",
       "<p>41188 rows × 63 columns</p>\n",
       "</div>"
      ],
      "text/plain": [
       "            age  duration  campaign     pdays  previous  emp.var.rate  \\\n",
       "0      1.533034  0.010471 -0.565922  0.195414 -0.349494      0.648092   \n",
       "1      1.628993 -0.421501 -0.565922  0.195414 -0.349494      0.648092   \n",
       "2     -0.290186 -0.124520 -0.565922  0.195414 -0.349494      0.648092   \n",
       "3     -0.002309 -0.413787 -0.565922  0.195414 -0.349494      0.648092   \n",
       "4      1.533034  0.187888 -0.565922  0.195414 -0.349494      0.648092   \n",
       "...         ...       ...       ...       ...       ...           ...   \n",
       "41183  3.164336  0.292025 -0.565922  0.195414 -0.349494     -0.752343   \n",
       "41184  0.573445  0.481012 -0.565922  0.195414 -0.349494     -0.752343   \n",
       "41185  1.533034 -0.267225 -0.204909  0.195414 -0.349494     -0.752343   \n",
       "41186  0.381527  0.708569 -0.565922  0.195414 -0.349494     -0.752343   \n",
       "41187  3.260295 -0.074380  0.156105  0.195414  1.671136     -0.752343   \n",
       "\n",
       "       cons.price.idx  cons.conf.idx  euribor3m  nr.employed  ...  month_sep  \\\n",
       "0            0.722722       0.886447   0.712460     0.331680  ...        0.0   \n",
       "1            0.722722       0.886447   0.712460     0.331680  ...        0.0   \n",
       "2            0.722722       0.886447   0.712460     0.331680  ...        0.0   \n",
       "3            0.722722       0.886447   0.712460     0.331680  ...        0.0   \n",
       "4            0.722722       0.886447   0.712460     0.331680  ...        0.0   \n",
       "...               ...            ...        ...          ...  ...        ...   \n",
       "41183        2.058168      -2.224953  -1.495186    -2.815697  ...        0.0   \n",
       "41184        2.058168      -2.224953  -1.495186    -2.815697  ...        0.0   \n",
       "41185        2.058168      -2.224953  -1.495186    -2.815697  ...        0.0   \n",
       "41186        2.058168      -2.224953  -1.495186    -2.815697  ...        0.0   \n",
       "41187        2.058168      -2.224953  -1.495186    -2.815697  ...        0.0   \n",
       "\n",
       "       day_of_week_fri  day_of_week_mon  day_of_week_thu  day_of_week_tue  \\\n",
       "0                  0.0              1.0              0.0              0.0   \n",
       "1                  0.0              1.0              0.0              0.0   \n",
       "2                  0.0              1.0              0.0              0.0   \n",
       "3                  0.0              1.0              0.0              0.0   \n",
       "4                  0.0              1.0              0.0              0.0   \n",
       "...                ...              ...              ...              ...   \n",
       "41183              1.0              0.0              0.0              0.0   \n",
       "41184              1.0              0.0              0.0              0.0   \n",
       "41185              1.0              0.0              0.0              0.0   \n",
       "41186              1.0              0.0              0.0              0.0   \n",
       "41187              1.0              0.0              0.0              0.0   \n",
       "\n",
       "       day_of_week_wed  poutcome_failure  poutcome_nonexistent  \\\n",
       "0                  0.0               0.0                   1.0   \n",
       "1                  0.0               0.0                   1.0   \n",
       "2                  0.0               0.0                   1.0   \n",
       "3                  0.0               0.0                   1.0   \n",
       "4                  0.0               0.0                   1.0   \n",
       "...                ...               ...                   ...   \n",
       "41183              0.0               0.0                   1.0   \n",
       "41184              0.0               0.0                   1.0   \n",
       "41185              0.0               0.0                   1.0   \n",
       "41186              0.0               0.0                   1.0   \n",
       "41187              0.0               1.0                   0.0   \n",
       "\n",
       "       poutcome_success  y_yes  \n",
       "0                   0.0    0.0  \n",
       "1                   0.0    0.0  \n",
       "2                   0.0    0.0  \n",
       "3                   0.0    0.0  \n",
       "4                   0.0    0.0  \n",
       "...                 ...    ...  \n",
       "41183               0.0    1.0  \n",
       "41184               0.0    0.0  \n",
       "41185               0.0    0.0  \n",
       "41186               0.0    1.0  \n",
       "41187               0.0    0.0  \n",
       "\n",
       "[41188 rows x 63 columns]"
      ]
     },
     "execution_count": 12,
     "metadata": {},
     "output_type": "execute_result"
    }
   ],
   "source": [
    "onehotencoder = preprocessor.named_transformers_['cat']\n",
    "onehot_columns = onehotencoder.get_feature_names_out(categorical_features)\n",
    "feature_names = numerical_features + list(onehot_columns)\n",
    "preprocessed = pd.DataFrame(preprocessed_data, columns=feature_names)\n",
    "preprocessed"
   ]
  },
  {
   "cell_type": "markdown",
   "metadata": {},
   "source": [
    "### Problem 6: Train/Test Split\n",
    "\n",
    "With your data prepared, split it into a train and test set."
   ]
  },
  {
   "cell_type": "code",
   "execution_count": 13,
   "metadata": {},
   "outputs": [],
   "source": [
    "from sklearn.model_selection import train_test_split"
   ]
  },
  {
   "cell_type": "code",
   "execution_count": 14,
   "metadata": {},
   "outputs": [],
   "source": [
    "X, y = preprocessed.drop('y_yes', axis=1), preprocessed['y_yes']\n",
    "X_train, X_test, y_train, y_test = train_test_split(X, y, test_size=0.2, random_state=42)"
   ]
  },
  {
   "cell_type": "code",
   "execution_count": null,
   "metadata": {},
   "outputs": [],
   "source": []
  },
  {
   "cell_type": "markdown",
   "metadata": {},
   "source": [
    "### Problem 7: A Baseline Model\n",
    "\n",
    "Before we build our first model, we want to establish a baseline.  What is the baseline performance that our classifier should aim to beat?"
   ]
  },
  {
   "cell_type": "code",
   "execution_count": 15,
   "metadata": {},
   "outputs": [],
   "source": [
    "from sklearn.dummy import DummyClassifier"
   ]
  },
  {
   "cell_type": "code",
   "execution_count": 16,
   "metadata": {},
   "outputs": [],
   "source": [
    "dummy_classifier = DummyClassifier(strategy='most_frequent').fit(X_train, y_train)"
   ]
  },
  {
   "cell_type": "code",
   "execution_count": 17,
   "metadata": {},
   "outputs": [
    {
     "data": {
      "text/plain": [
       "0.8865015780529255"
      ]
     },
     "execution_count": 17,
     "metadata": {},
     "output_type": "execute_result"
    }
   ],
   "source": [
    "# The value expressed below is the baseline performance we should be aiming to beat.\n",
    "dummy_classifier.score(X_test, y_test)"
   ]
  },
  {
   "cell_type": "markdown",
   "metadata": {},
   "source": [
    "### Problem 8: A Simple Model\n",
    "\n",
    "Use Logistic Regression to build a basic model on your data.  "
   ]
  },
  {
   "cell_type": "code",
   "execution_count": 18,
   "metadata": {},
   "outputs": [],
   "source": [
    "from sklearn.linear_model import LogisticRegression\n",
    "import time"
   ]
  },
  {
   "cell_type": "code",
   "execution_count": 19,
   "metadata": {
    "scrolled": true
   },
   "outputs": [
    {
     "name": "stdout",
     "output_type": "stream",
     "text": [
      "Fit Time: 0.22214412689208984\n"
     ]
    }
   ],
   "source": [
    "logreg = LogisticRegression()\n",
    "\n",
    "start_time = time.time()\n",
    "logreg.fit(X_train, y_train)\n",
    "end_time = time.time()\n",
    "lr_fitting_time = end_time - start_time\n",
    "\n",
    "print(\"Fit Time: \" + str(lr_fitting_time))"
   ]
  },
  {
   "cell_type": "markdown",
   "metadata": {},
   "source": [
    "### Problem 9: Score the Model\n",
    "\n",
    "What is the accuracy of your model?"
   ]
  },
  {
   "cell_type": "code",
   "execution_count": 20,
   "metadata": {},
   "outputs": [
    {
     "name": "stdout",
     "output_type": "stream",
     "text": [
      "Logistic Regression Train Score: 0.911896813353566\n",
      "Logistic Regression Test Score: 0.911143481427531\n"
     ]
    }
   ],
   "source": [
    "lr_train_score = logreg.score(X_train, y_train)\n",
    "lr_test_score = logreg.score(X_test, y_test)\n",
    "\n",
    "print(\"Logistic Regression Train Score: \" + str(lr_train_score))\n",
    "print(\"Logistic Regression Test Score: \" + str(lr_test_score))"
   ]
  },
  {
   "cell_type": "markdown",
   "metadata": {},
   "source": [
    "### Problem 10: Model Comparisons\n",
    "\n",
    "Now, we aim to compare the performance of the Logistic Regression model to our KNN algorithm, Decision Tree, and SVM models.  Using the default settings for each of the models, fit and score each.  Also, be sure to compare the fit time of each of the models.  Present your findings in a `DataFrame` similar to that below:\n",
    "\n",
    "| Model | Train Time | Train Accuracy | Test Accuracy |\n",
    "| ----- | ---------- | -------------  | -----------   |\n",
    "|     |    |.     |.     |"
   ]
  },
  {
   "cell_type": "code",
   "execution_count": 21,
   "metadata": {},
   "outputs": [],
   "source": [
    "from sklearn.neighbors import KNeighborsClassifier\n",
    "from sklearn.tree import DecisionTreeClassifier\n",
    "from sklearn.svm import SVC"
   ]
  },
  {
   "cell_type": "code",
   "execution_count": 22,
   "metadata": {},
   "outputs": [
    {
     "name": "stdout",
     "output_type": "stream",
     "text": [
      "KNN Train Score: 0.9403945371775417\n",
      "KNN Test Score: 0.8943918426802622\n",
      "Fit Time: 0.008411169052124023\n"
     ]
    }
   ],
   "source": [
    "knn = KNeighborsClassifier(n_neighbors=3)\n",
    "\n",
    "start_time = time.time()\n",
    "knn.fit(X_train, y_train)\n",
    "end_time = time.time()\n",
    "knn_fitting_time = end_time - start_time\n",
    "\n",
    "knn_train_score = knn.score(X_train, y_train)\n",
    "knn_test_score = knn.score(X_test, y_test)\n",
    "\n",
    "print(\"KNN Train Score: \" + str(knn_train_score))\n",
    "print(\"KNN Test Score: \" + str(knn_test_score))\n",
    "print(\"Fit Time: \" + str(knn_fitting_time))"
   ]
  },
  {
   "cell_type": "code",
   "execution_count": 23,
   "metadata": {},
   "outputs": [
    {
     "name": "stdout",
     "output_type": "stream",
     "text": [
      "SVC Train Score: 0.9227921092564492\n",
      "SVC Test Score: 0.9116290361738286\n",
      "Fit Time: 7.572618722915649\n"
     ]
    }
   ],
   "source": [
    "svc = SVC()\n",
    "\n",
    "start_time = time.time()\n",
    "svc.fit(X_train, y_train)\n",
    "end_time = time.time()\n",
    "svc_fitting_time = end_time - start_time\n",
    "\n",
    "svc_train_score = svc.score(X_train, y_train)\n",
    "svc_test_score = svc.score(X_test, y_test)\n",
    "\n",
    "print(\"SVC Train Score: \" + str(svc_train_score))\n",
    "print(\"SVC Test Score: \" + str(svc_test_score))\n",
    "print(\"Fit Time: \" + str(svc_fitting_time))"
   ]
  },
  {
   "cell_type": "code",
   "execution_count": 24,
   "metadata": {},
   "outputs": [
    {
     "name": "stdout",
     "output_type": "stream",
     "text": [
      "Tree Train Score: 0.9198482549317147\n",
      "Tree Test Score: 0.913814032532168\n",
      "Fit Time: 0.06813788414001465\n"
     ]
    }
   ],
   "source": [
    "dtree = DecisionTreeClassifier(max_depth=6, random_state=42)\n",
    "\n",
    "start_time = time.time()\n",
    "dtree.fit(X_train, y_train)\n",
    "end_time = time.time()\n",
    "tree_fitting_time = end_time - start_time\n",
    "\n",
    "tree_train_score = dtree.score(X_train, y_train)\n",
    "tree_test_score = dtree.score(X_test, y_test)\n",
    "\n",
    "print(\"Tree Train Score: \" + str(tree_train_score))\n",
    "print(\"Tree Test Score: \" + str(tree_test_score))\n",
    "print(\"Fit Time: \" + str(tree_fitting_time))"
   ]
  },
  {
   "cell_type": "code",
   "execution_count": 25,
   "metadata": {},
   "outputs": [
    {
     "data": {
      "text/html": [
       "<div>\n",
       "<style scoped>\n",
       "    .dataframe tbody tr th:only-of-type {\n",
       "        vertical-align: middle;\n",
       "    }\n",
       "\n",
       "    .dataframe tbody tr th {\n",
       "        vertical-align: top;\n",
       "    }\n",
       "\n",
       "    .dataframe thead th {\n",
       "        text-align: right;\n",
       "    }\n",
       "</style>\n",
       "<table border=\"1\" class=\"dataframe\">\n",
       "  <thead>\n",
       "    <tr style=\"text-align: right;\">\n",
       "      <th></th>\n",
       "      <th>train score</th>\n",
       "      <th>test score</th>\n",
       "      <th>fit time</th>\n",
       "    </tr>\n",
       "    <tr>\n",
       "      <th>model</th>\n",
       "      <th></th>\n",
       "      <th></th>\n",
       "      <th></th>\n",
       "    </tr>\n",
       "  </thead>\n",
       "  <tbody>\n",
       "    <tr>\n",
       "      <th>Logistic Regression</th>\n",
       "      <td>0.911897</td>\n",
       "      <td>0.911143</td>\n",
       "      <td>0.222144</td>\n",
       "    </tr>\n",
       "    <tr>\n",
       "      <th>KNN</th>\n",
       "      <td>0.940395</td>\n",
       "      <td>0.894392</td>\n",
       "      <td>0.008411</td>\n",
       "    </tr>\n",
       "    <tr>\n",
       "      <th>SVC</th>\n",
       "      <td>0.922792</td>\n",
       "      <td>0.911629</td>\n",
       "      <td>7.572619</td>\n",
       "    </tr>\n",
       "    <tr>\n",
       "      <th>Decision Tree</th>\n",
       "      <td>0.919848</td>\n",
       "      <td>0.913814</td>\n",
       "      <td>0.068138</td>\n",
       "    </tr>\n",
       "  </tbody>\n",
       "</table>\n",
       "</div>"
      ],
      "text/plain": [
       "                     train score  test score  fit time\n",
       "model                                                 \n",
       "Logistic Regression     0.911897    0.911143  0.222144\n",
       "KNN                     0.940395    0.894392  0.008411\n",
       "SVC                     0.922792    0.911629  7.572619\n",
       "Decision Tree           0.919848    0.913814  0.068138"
      ]
     },
     "execution_count": 25,
     "metadata": {},
     "output_type": "execute_result"
    }
   ],
   "source": [
    "results = {'model': ['Logistic Regression', 'KNN', 'SVC', 'Decision Tree'],\n",
    "           'train score': [lr_train_score, knn_train_score, svc_train_score, tree_train_score],\n",
    "           'test score': [lr_test_score, knn_test_score, svc_test_score, tree_test_score],\n",
    "           'fit time': [lr_fitting_time, knn_fitting_time, svc_fitting_time, tree_fitting_time]}\n",
    "results_df = pd.DataFrame(results).set_index('model')\n",
    "results_df"
   ]
  },
  {
   "cell_type": "markdown",
   "metadata": {},
   "source": [
    "### Problem 11: Improving the Model\n",
    "\n",
    "Now that we have some basic models on the board, we want to try to improve these.  Below, we list a few things to explore in this pursuit.\n",
    "\n",
    "- More feature engineering and exploration.  For example, should we keep the gender feature?  Why or why not?\n",
    "- Hyperparameter tuning and grid search.  All of our models have additional hyperparameters to tune and explore.  For example the number of neighbors in KNN or the maximum depth of a Decision Tree.  \n",
    "- Adjust your performance metric"
   ]
  },
  {
   "cell_type": "code",
   "execution_count": 26,
   "metadata": {},
   "outputs": [],
   "source": [
    "import warnings\n",
    "warnings.filterwarnings('ignore', 'Solver terminated early.*')\n",
    "warnings.filterwarnings('ignore', 'ValueError: Solver lbfgs supports only*')\n",
    "warnings.filterwarnings('ignore', 'ConvergenceWarning*')\n",
    "warnings.filterwarnings('ignore', 'UserWarning: Setting penalty=None will ignore*')"
   ]
  },
  {
   "cell_type": "code",
   "execution_count": 27,
   "metadata": {},
   "outputs": [
    {
     "data": {
      "text/html": [
       "<div>\n",
       "<style scoped>\n",
       "    .dataframe tbody tr th:only-of-type {\n",
       "        vertical-align: middle;\n",
       "    }\n",
       "\n",
       "    .dataframe tbody tr th {\n",
       "        vertical-align: top;\n",
       "    }\n",
       "\n",
       "    .dataframe thead th {\n",
       "        text-align: right;\n",
       "    }\n",
       "</style>\n",
       "<table border=\"1\" class=\"dataframe\">\n",
       "  <thead>\n",
       "    <tr style=\"text-align: right;\">\n",
       "      <th></th>\n",
       "      <th>age</th>\n",
       "      <th>duration</th>\n",
       "      <th>campaign</th>\n",
       "      <th>pdays</th>\n",
       "      <th>previous</th>\n",
       "      <th>emp.var.rate</th>\n",
       "      <th>cons.price.idx</th>\n",
       "      <th>cons.conf.idx</th>\n",
       "      <th>euribor3m</th>\n",
       "      <th>nr.employed</th>\n",
       "      <th>...</th>\n",
       "      <th>month_oct</th>\n",
       "      <th>month_sep</th>\n",
       "      <th>day_of_week_fri</th>\n",
       "      <th>day_of_week_mon</th>\n",
       "      <th>day_of_week_thu</th>\n",
       "      <th>day_of_week_tue</th>\n",
       "      <th>day_of_week_wed</th>\n",
       "      <th>poutcome_failure</th>\n",
       "      <th>poutcome_nonexistent</th>\n",
       "      <th>poutcome_success</th>\n",
       "    </tr>\n",
       "  </thead>\n",
       "  <tbody>\n",
       "    <tr>\n",
       "      <th>0</th>\n",
       "      <td>-0.004321</td>\n",
       "      <td>1.205534</td>\n",
       "      <td>-0.139414</td>\n",
       "      <td>-0.198688</td>\n",
       "      <td>-0.030136</td>\n",
       "      <td>-2.571245</td>\n",
       "      <td>1.102064</td>\n",
       "      <td>0.067503</td>\n",
       "      <td>0.745064</td>\n",
       "      <td>0.141475</td>\n",
       "      <td>...</td>\n",
       "      <td>-0.081688</td>\n",
       "      <td>-0.015238</td>\n",
       "      <td>-0.211503</td>\n",
       "      <td>-0.309905</td>\n",
       "      <td>-0.108841</td>\n",
       "      <td>-0.075099</td>\n",
       "      <td>-0.031956</td>\n",
       "      <td>-0.660645</td>\n",
       "      <td>-0.247569</td>\n",
       "      <td>0.170911</td>\n",
       "    </tr>\n",
       "  </tbody>\n",
       "</table>\n",
       "<p>1 rows × 62 columns</p>\n",
       "</div>"
      ],
      "text/plain": [
       "        age  duration  campaign     pdays  previous  emp.var.rate  \\\n",
       "0 -0.004321  1.205534 -0.139414 -0.198688 -0.030136     -2.571245   \n",
       "\n",
       "   cons.price.idx  cons.conf.idx  euribor3m  nr.employed  ...  month_oct  \\\n",
       "0        1.102064       0.067503   0.745064     0.141475  ...  -0.081688   \n",
       "\n",
       "   month_sep  day_of_week_fri  day_of_week_mon  day_of_week_thu  \\\n",
       "0  -0.015238        -0.211503        -0.309905        -0.108841   \n",
       "\n",
       "   day_of_week_tue  day_of_week_wed  poutcome_failure  poutcome_nonexistent  \\\n",
       "0        -0.075099        -0.031956         -0.660645             -0.247569   \n",
       "\n",
       "   poutcome_success  \n",
       "0          0.170911  \n",
       "\n",
       "[1 rows x 62 columns]"
      ]
     },
     "execution_count": 27,
     "metadata": {},
     "output_type": "execute_result"
    }
   ],
   "source": [
    "lr_coef_by_name = pd.DataFrame(logreg.coef_, columns=feature_names[:-1])\n",
    "lr_coef_by_name"
   ]
  },
  {
   "cell_type": "code",
   "execution_count": 28,
   "metadata": {},
   "outputs": [
    {
     "data": {
      "text/plain": [
       "[('emp.var.rate', -2.57124522866077),\n",
       " ('month_mar', 1.6513864511324563),\n",
       " ('duration', 1.2055341370781287),\n",
       " ('cons.price.idx', 1.102064233357924),\n",
       " ('month_may', -0.8130913899539758),\n",
       " ('month_nov', -0.766587749789999),\n",
       " ('euribor3m', 0.7450641793284768),\n",
       " ('month_jun', -0.6726711074919851),\n",
       " ('poutcome_failure', -0.6606449733225882),\n",
       " ('contact_telephone', -0.6394536017569608),\n",
       " ('month_aug', 0.5114001832983445),\n",
       " ('default_unknown', -0.49675784148969493),\n",
       " ('job_unknown', -0.3199526700889188),\n",
       " ('month_apr', -0.30993194016611825),\n",
       " ('day_of_week_mon', -0.3099048998888765),\n",
       " ('job_self-employed', -0.2766170899951944),\n",
       " ('loan_yes', -0.26355898283408924),\n",
       " ('housing_yes', -0.26046122134462624),\n",
       " ('poutcome_nonexistent', -0.24756926622492392),\n",
       " ('housing_no', -0.23994701872622237),\n",
       " ('housing_unknown', -0.2368947656608257),\n",
       " ('loan_unknown', -0.2368947656608257),\n",
       " ('loan_no', -0.2368492572367606),\n",
       " ('job_retired', 0.2345099058667731),\n",
       " ('default_no', -0.22687714624485159),\n",
       " ('marital_married', -0.21508721052686292),\n",
       " ('day_of_week_fri', -0.21150267607265502),\n",
       " ('job_blue-collar', -0.20167099749232711),\n",
       " ('pdays', -0.19868818765570637),\n",
       " ('education_high.school', -0.18364850981061553),\n",
       " ('marital_unknown', -0.18341062169042188),\n",
       " ('education_basic.9y', -0.17781003565980977),\n",
       " ('marital_divorced', -0.17419092128499897),\n",
       " ('poutcome_success', 0.17091123381583662),\n",
       " ('education_professional.course', -0.16499220780357735),\n",
       " ('marital_single', -0.16461425222938564),\n",
       " ('education_basic.4y', -0.16454828091716506),\n",
       " ('month_jul', -0.1496579424147011),\n",
       " ('education_illiterate', 0.1434663684129605),\n",
       " ('education_unknown', -0.14206000196461363),\n",
       " ('nr.employed', 0.14147461149552734),\n",
       " ('campaign', -0.13941355815528472),\n",
       " ('job_entrepreneur', -0.13372366144060086),\n",
       " ('job_student', 0.1319042749888904),\n",
       " ('job_services', -0.11479860856868196),\n",
       " ('day_of_week_thu', -0.1088405448012935),\n",
       " ('month_dec', -0.09122320750822652),\n",
       " ('month_oct', -0.08168839705514437),\n",
       " ('day_of_week_tue', -0.07509919254230725),\n",
       " ('job_housemaid', -0.07192108462079033),\n",
       " ('cons.conf.idx', 0.06750330886383456),\n",
       " ('job_management', -0.0605788416973483),\n",
       " ('education_basic.6y', -0.05537857663589741),\n",
       " ('job_technician', 0.04897085721481975),\n",
       " ('job_unemployed', 0.039160332891308124),\n",
       " ('day_of_week_wed', -0.031955692426526704),\n",
       " ('previous', -0.03013619750131697),\n",
       " ('month_sep', -0.015237905782315122),\n",
       " ('default_yes', -0.01366801799714514),\n",
       " ('job_admin.', -0.012585422789579645),\n",
       " ('education_university.degree', 0.007668238647066457),\n",
       " ('age', -0.004321384448683221)]"
      ]
     },
     "execution_count": 28,
     "metadata": {},
     "output_type": "execute_result"
    }
   ],
   "source": [
    "lr_coefs = []\n",
    "for index, value in enumerate(feature_names[:-1]):\n",
    "    lr_coefs.append((value, logreg.coef_[0][index]))\n",
    "\n",
    "lr_coefs_sorted = sorted(lr_coefs, key=lambda x: abs(x[1]), reverse=True)\n",
    "lr_coefs_sorted"
   ]
  },
  {
   "cell_type": "code",
   "execution_count": 40,
   "metadata": {},
   "outputs": [
    {
     "data": {
      "text/plain": [
       "[Text(0.4923155737704918, 0.9285714285714286, 'nr.employed <= -1.099\\ngini = 0.2\\nsamples = 32950\\nvalue = [29245, 3705]\\nclass = churn'),\n",
       " Text(0.24692622950819673, 0.7857142857142857, 'duration <= -0.358\\ngini = 0.494\\nsamples = 3976\\nvalue = [2199, 1777]\\nclass = churn'),\n",
       " Text(0.13114754098360656, 0.6428571428571429, 'pdays <= -5.109\\ngini = 0.274\\nsamples = 1440\\nvalue = [1204, 236]\\nclass = churn'),\n",
       " Text(0.06557377049180328, 0.5, 'day_of_week_mon <= 0.5\\ngini = 0.478\\nsamples = 190\\nvalue = [115, 75]\\nclass = churn'),\n",
       " Text(0.03278688524590164, 0.35714285714285715, 'duration <= -0.504\\ngini = 0.498\\nsamples = 137\\nvalue = [73, 64]\\nclass = churn'),\n",
       " Text(0.01639344262295082, 0.21428571428571427, 'emp.var.rate <= -1.548\\ngini = 0.455\\nsamples = 80\\nvalue = [52, 28]\\nclass = churn'),\n",
       " Text(0.00819672131147541, 0.07142857142857142, 'gini = 0.492\\nsamples = 64\\nvalue = [36, 28]\\nclass = churn'),\n",
       " Text(0.02459016393442623, 0.07142857142857142, 'gini = 0.0\\nsamples = 16\\nvalue = [16, 0]\\nclass = churn'),\n",
       " Text(0.04918032786885246, 0.21428571428571427, 'cons.conf.idx <= 0.314\\ngini = 0.465\\nsamples = 57\\nvalue = [21, 36]\\nclass = no churn'),\n",
       " Text(0.040983606557377046, 0.07142857142857142, 'gini = 0.444\\nsamples = 12\\nvalue = [8, 4]\\nclass = churn'),\n",
       " Text(0.05737704918032787, 0.07142857142857142, 'gini = 0.411\\nsamples = 45\\nvalue = [13.0, 32.0]\\nclass = no churn'),\n",
       " Text(0.09836065573770492, 0.35714285714285715, 'duration <= -0.385\\ngini = 0.329\\nsamples = 53\\nvalue = [42, 11]\\nclass = churn'),\n",
       " Text(0.08196721311475409, 0.21428571428571427, 'month_mar <= 0.5\\ngini = 0.249\\nsamples = 48\\nvalue = [41, 7]\\nclass = churn'),\n",
       " Text(0.07377049180327869, 0.07142857142857142, 'gini = 0.172\\nsamples = 42\\nvalue = [38, 4]\\nclass = churn'),\n",
       " Text(0.09016393442622951, 0.07142857142857142, 'gini = 0.5\\nsamples = 6\\nvalue = [3, 3]\\nclass = churn'),\n",
       " Text(0.11475409836065574, 0.21428571428571427, 'education_basic.6y <= 0.5\\ngini = 0.32\\nsamples = 5\\nvalue = [1, 4]\\nclass = no churn'),\n",
       " Text(0.10655737704918032, 0.07142857142857142, 'gini = 0.0\\nsamples = 4\\nvalue = [0, 4]\\nclass = no churn'),\n",
       " Text(0.12295081967213115, 0.07142857142857142, 'gini = 0.0\\nsamples = 1\\nvalue = [1, 0]\\nclass = churn'),\n",
       " Text(0.19672131147540983, 0.5, 'duration <= -0.52\\ngini = 0.224\\nsamples = 1250\\nvalue = [1089, 161]\\nclass = churn'),\n",
       " Text(0.16393442622950818, 0.35714285714285715, 'duration <= -0.697\\ngini = 0.141\\nsamples = 825\\nvalue = [762.0, 63.0]\\nclass = churn'),\n",
       " Text(0.14754098360655737, 0.21428571428571427, 'pdays <= -5.077\\ngini = 0.025\\nsamples = 313\\nvalue = [309, 4]\\nclass = churn'),\n",
       " Text(0.13934426229508196, 0.07142857142857142, 'gini = 0.444\\nsamples = 3\\nvalue = [2, 1]\\nclass = churn'),\n",
       " Text(0.1557377049180328, 0.07142857142857142, 'gini = 0.019\\nsamples = 310\\nvalue = [307, 3]\\nclass = churn'),\n",
       " Text(0.18032786885245902, 0.21428571428571427, 'euribor3m <= -1.721\\ngini = 0.204\\nsamples = 512\\nvalue = [453, 59]\\nclass = churn'),\n",
       " Text(0.1721311475409836, 0.07142857142857142, 'gini = 0.375\\nsamples = 4\\nvalue = [1, 3]\\nclass = no churn'),\n",
       " Text(0.1885245901639344, 0.07142857142857142, 'gini = 0.196\\nsamples = 508\\nvalue = [452, 56]\\nclass = churn'),\n",
       " Text(0.22950819672131148, 0.35714285714285715, 'cons.price.idx <= 0.649\\ngini = 0.355\\nsamples = 425\\nvalue = [327, 98]\\nclass = churn'),\n",
       " Text(0.21311475409836064, 0.21428571428571427, 'contact_telephone <= 0.5\\ngini = 0.399\\nsamples = 334\\nvalue = [242.0, 92.0]\\nclass = churn'),\n",
       " Text(0.20491803278688525, 0.07142857142857142, 'gini = 0.421\\nsamples = 302\\nvalue = [211, 91]\\nclass = churn'),\n",
       " Text(0.22131147540983606, 0.07142857142857142, 'gini = 0.061\\nsamples = 32\\nvalue = [31, 1]\\nclass = churn'),\n",
       " Text(0.2459016393442623, 0.21428571428571427, 'age <= 3.98\\ngini = 0.123\\nsamples = 91\\nvalue = [85, 6]\\nclass = churn'),\n",
       " Text(0.23770491803278687, 0.07142857142857142, 'gini = 0.105\\nsamples = 90\\nvalue = [85, 5]\\nclass = churn'),\n",
       " Text(0.2540983606557377, 0.07142857142857142, 'gini = 0.0\\nsamples = 1\\nvalue = [0, 1]\\nclass = no churn'),\n",
       " Text(0.36270491803278687, 0.6428571428571429, 'pdays <= -5.067\\ngini = 0.477\\nsamples = 2536\\nvalue = [995, 1541]\\nclass = no churn'),\n",
       " Text(0.3155737704918033, 0.5, 'campaign <= 1.42\\ngini = 0.304\\nsamples = 745\\nvalue = [139, 606]\\nclass = no churn'),\n",
       " Text(0.29508196721311475, 0.35714285714285715, 'euribor3m <= -1.529\\ngini = 0.298\\nsamples = 740\\nvalue = [135, 605]\\nclass = no churn'),\n",
       " Text(0.2786885245901639, 0.21428571428571427, 'day_of_week_mon <= 0.5\\ngini = 0.276\\nsamples = 616\\nvalue = [102, 514]\\nclass = no churn'),\n",
       " Text(0.27049180327868855, 0.07142857142857142, 'gini = 0.253\\nsamples = 512\\nvalue = [76, 436]\\nclass = no churn'),\n",
       " Text(0.28688524590163933, 0.07142857142857142, 'gini = 0.375\\nsamples = 104\\nvalue = [26, 78]\\nclass = no churn'),\n",
       " Text(0.3114754098360656, 0.21428571428571427, 'job_unknown <= 0.5\\ngini = 0.391\\nsamples = 124\\nvalue = [33, 91]\\nclass = no churn'),\n",
       " Text(0.30327868852459017, 0.07142857142857142, 'gini = 0.379\\nsamples = 122\\nvalue = [31, 91]\\nclass = no churn'),\n",
       " Text(0.319672131147541, 0.07142857142857142, 'gini = 0.0\\nsamples = 2\\nvalue = [2, 0]\\nclass = churn'),\n",
       " Text(0.3360655737704918, 0.35714285714285715, 'month_dec <= 0.5\\ngini = 0.32\\nsamples = 5\\nvalue = [4, 1]\\nclass = churn'),\n",
       " Text(0.32786885245901637, 0.21428571428571427, 'gini = 0.0\\nsamples = 4\\nvalue = [4, 0]\\nclass = churn'),\n",
       " Text(0.3442622950819672, 0.21428571428571427, 'gini = 0.0\\nsamples = 1\\nvalue = [0, 1]\\nclass = no churn'),\n",
       " Text(0.4098360655737705, 0.5, 'duration <= 0.024\\ngini = 0.499\\nsamples = 1791\\nvalue = [856, 935]\\nclass = no churn'),\n",
       " Text(0.3770491803278688, 0.35714285714285715, 'duration <= -0.231\\ngini = 0.475\\nsamples = 702\\nvalue = [429.0, 273.0]\\nclass = churn'),\n",
       " Text(0.36065573770491804, 0.21428571428571427, 'month_oct <= 0.5\\ngini = 0.414\\nsamples = 249\\nvalue = [176, 73]\\nclass = churn'),\n",
       " Text(0.3524590163934426, 0.07142857142857142, 'gini = 0.438\\nsamples = 213\\nvalue = [144, 69]\\nclass = churn'),\n",
       " Text(0.36885245901639346, 0.07142857142857142, 'gini = 0.198\\nsamples = 36\\nvalue = [32, 4]\\nclass = churn'),\n",
       " Text(0.39344262295081966, 0.21428571428571427, 'job_student <= 0.5\\ngini = 0.493\\nsamples = 453\\nvalue = [253.0, 200.0]\\nclass = churn'),\n",
       " Text(0.38524590163934425, 0.07142857142857142, 'gini = 0.497\\nsamples = 412\\nvalue = [222, 190]\\nclass = churn'),\n",
       " Text(0.4016393442622951, 0.07142857142857142, 'gini = 0.369\\nsamples = 41\\nvalue = [31, 10]\\nclass = churn'),\n",
       " Text(0.4426229508196721, 0.35714285714285715, 'cons.price.idx <= -1.546\\ngini = 0.477\\nsamples = 1089\\nvalue = [427, 662]\\nclass = no churn'),\n",
       " Text(0.4262295081967213, 0.21428571428571427, 'day_of_week_fri <= 0.5\\ngini = 0.5\\nsamples = 436\\nvalue = [212, 224]\\nclass = no churn'),\n",
       " Text(0.4180327868852459, 0.07142857142857142, 'gini = 0.499\\nsamples = 343\\nvalue = [177, 166]\\nclass = churn'),\n",
       " Text(0.4344262295081967, 0.07142857142857142, 'gini = 0.469\\nsamples = 93\\nvalue = [35, 58]\\nclass = no churn'),\n",
       " Text(0.45901639344262296, 0.21428571428571427, 'duration <= 0.518\\ngini = 0.442\\nsamples = 653\\nvalue = [215, 438]\\nclass = no churn'),\n",
       " Text(0.45081967213114754, 0.07142857142857142, 'gini = 0.484\\nsamples = 311\\nvalue = [128, 183]\\nclass = no churn'),\n",
       " Text(0.4672131147540984, 0.07142857142857142, 'gini = 0.379\\nsamples = 342\\nvalue = [87, 255]\\nclass = no churn'),\n",
       " Text(0.7377049180327869, 0.7857142857142857, 'duration <= 1.031\\ngini = 0.124\\nsamples = 28974\\nvalue = [27046, 1928]\\nclass = churn'),\n",
       " Text(0.6065573770491803, 0.6428571428571429, 'cons.conf.idx <= -1.328\\ngini = 0.05\\nsamples = 25858\\nvalue = [25194, 664]\\nclass = churn'),\n",
       " Text(0.5409836065573771, 0.5, 'euribor3m <= -1.208\\ngini = 0.292\\nsamples = 1911\\nvalue = [1572, 339]\\nclass = churn'),\n",
       " Text(0.5081967213114754, 0.35714285714285715, 'euribor3m <= -1.299\\ngini = 0.246\\nsamples = 1711\\nvalue = [1465.0, 246.0]\\nclass = churn'),\n",
       " Text(0.4918032786885246, 0.21428571428571427, 'duration <= -0.136\\ngini = 0.463\\nsamples = 201\\nvalue = [128, 73]\\nclass = churn'),\n",
       " Text(0.48360655737704916, 0.07142857142857142, 'gini = 0.095\\nsamples = 100\\nvalue = [95, 5]\\nclass = churn'),\n",
       " Text(0.5, 0.07142857142857142, 'gini = 0.44\\nsamples = 101\\nvalue = [33, 68]\\nclass = no churn'),\n",
       " Text(0.5245901639344263, 0.21428571428571427, 'age <= -0.914\\ngini = 0.203\\nsamples = 1510\\nvalue = [1337, 173]\\nclass = churn'),\n",
       " Text(0.5163934426229508, 0.07142857142857142, 'gini = 0.394\\nsamples = 263\\nvalue = [192, 71]\\nclass = churn'),\n",
       " Text(0.5327868852459017, 0.07142857142857142, 'gini = 0.15\\nsamples = 1247\\nvalue = [1145, 102]\\nclass = churn'),\n",
       " Text(0.5737704918032787, 0.35714285714285715, 'duration <= -0.327\\ngini = 0.498\\nsamples = 200\\nvalue = [107, 93]\\nclass = churn'),\n",
       " Text(0.5573770491803278, 0.21428571428571427, 'duration <= -0.632\\ngini = 0.397\\nsamples = 121\\nvalue = [88, 33]\\nclass = churn'),\n",
       " Text(0.5491803278688525, 0.07142857142857142, 'gini = 0.113\\nsamples = 50\\nvalue = [47, 3]\\nclass = churn'),\n",
       " Text(0.5655737704918032, 0.07142857142857142, 'gini = 0.488\\nsamples = 71\\nvalue = [41, 30]\\nclass = churn'),\n",
       " Text(0.5901639344262295, 0.21428571428571427, 'education_university.degree <= 0.5\\ngini = 0.365\\nsamples = 79\\nvalue = [19.0, 60.0]\\nclass = no churn'),\n",
       " Text(0.5819672131147541, 0.07142857142857142, 'gini = 0.231\\nsamples = 45\\nvalue = [6, 39]\\nclass = no churn'),\n",
       " Text(0.5983606557377049, 0.07142857142857142, 'gini = 0.472\\nsamples = 34\\nvalue = [13, 21]\\nclass = no churn'),\n",
       " Text(0.6721311475409836, 0.5, 'month_oct <= 0.5\\ngini = 0.027\\nsamples = 23947\\nvalue = [23622, 325]\\nclass = churn'),\n",
       " Text(0.639344262295082, 0.35714285714285715, 'duration <= 0.591\\ngini = 0.024\\nsamples = 23897\\nvalue = [23604, 293]\\nclass = churn'),\n",
       " Text(0.6229508196721312, 0.21428571428571427, 'pdays <= -5.131\\ngini = 0.012\\nsamples = 22446\\nvalue = [22305, 141]\\nclass = churn'),\n",
       " Text(0.6147540983606558, 0.07142857142857142, 'gini = 0.34\\nsamples = 46\\nvalue = [36, 10]\\nclass = churn'),\n",
       " Text(0.6311475409836066, 0.07142857142857142, 'gini = 0.012\\nsamples = 22400\\nvalue = [22269, 131]\\nclass = churn'),\n",
       " Text(0.6557377049180327, 0.21428571428571427, 'cons.price.idx <= 0.182\\ngini = 0.188\\nsamples = 1451\\nvalue = [1299, 152]\\nclass = churn'),\n",
       " Text(0.6475409836065574, 0.07142857142857142, 'gini = 0.291\\nsamples = 589\\nvalue = [485, 104]\\nclass = churn'),\n",
       " Text(0.6639344262295082, 0.07142857142857142, 'gini = 0.105\\nsamples = 862\\nvalue = [814, 48]\\nclass = churn'),\n",
       " Text(0.7049180327868853, 0.35714285714285715, 'duration <= -0.676\\ngini = 0.461\\nsamples = 50\\nvalue = [18, 32]\\nclass = no churn'),\n",
       " Text(0.6885245901639344, 0.21428571428571427, 'job_housemaid <= 0.5\\ngini = 0.117\\nsamples = 16\\nvalue = [15, 1]\\nclass = churn'),\n",
       " Text(0.680327868852459, 0.07142857142857142, 'gini = 0.0\\nsamples = 15\\nvalue = [15, 0]\\nclass = churn'),\n",
       " Text(0.6967213114754098, 0.07142857142857142, 'gini = 0.0\\nsamples = 1\\nvalue = [0, 1]\\nclass = no churn'),\n",
       " Text(0.7213114754098361, 0.21428571428571427, 'loan_no <= 0.5\\ngini = 0.161\\nsamples = 34\\nvalue = [3, 31]\\nclass = no churn'),\n",
       " Text(0.7131147540983607, 0.07142857142857142, 'gini = 0.5\\nsamples = 2\\nvalue = [1, 1]\\nclass = churn'),\n",
       " Text(0.7295081967213115, 0.07142857142857142, 'gini = 0.117\\nsamples = 32\\nvalue = [2, 30]\\nclass = no churn'),\n",
       " Text(0.8688524590163934, 0.6428571428571429, 'duration <= 2.226\\ngini = 0.482\\nsamples = 3116\\nvalue = [1852.0, 1264.0]\\nclass = churn'),\n",
       " Text(0.8032786885245902, 0.5, 'euribor3m <= -1.287\\ngini = 0.433\\nsamples = 2010\\nvalue = [1373, 637]\\nclass = churn'),\n",
       " Text(0.7704918032786885, 0.35714285714285715, 'euribor3m <= -1.31\\ngini = 0.5\\nsamples = 367\\nvalue = [182, 185]\\nclass = no churn'),\n",
       " Text(0.7540983606557377, 0.21428571428571427, 'duration <= 1.277\\ngini = 0.496\\nsamples = 326\\nvalue = [177, 149]\\nclass = churn'),\n",
       " Text(0.7459016393442623, 0.07142857142857142, 'gini = 0.434\\nsamples = 107\\nvalue = [73, 34]\\nclass = churn'),\n",
       " Text(0.7622950819672131, 0.07142857142857142, 'gini = 0.499\\nsamples = 219\\nvalue = [104, 115]\\nclass = no churn'),\n",
       " Text(0.7868852459016393, 0.21428571428571427, 'default_no <= 0.5\\ngini = 0.214\\nsamples = 41\\nvalue = [5, 36]\\nclass = no churn'),\n",
       " Text(0.7786885245901639, 0.07142857142857142, 'gini = 0.0\\nsamples = 1\\nvalue = [1, 0]\\nclass = churn'),\n",
       " Text(0.7950819672131147, 0.07142857142857142, 'gini = 0.18\\nsamples = 40\\nvalue = [4, 36]\\nclass = no churn'),\n",
       " Text(0.8360655737704918, 0.35714285714285715, 'euribor3m <= 0.717\\ngini = 0.399\\nsamples = 1643\\nvalue = [1191.0, 452.0]\\nclass = churn'),\n",
       " Text(0.819672131147541, 0.21428571428571427, 'age <= -0.434\\ngini = 0.327\\nsamples = 796\\nvalue = [632, 164]\\nclass = churn'),\n",
       " Text(0.8114754098360656, 0.07142857142857142, 'gini = 0.405\\nsamples = 273\\nvalue = [196, 77]\\nclass = churn'),\n",
       " Text(0.8278688524590164, 0.07142857142857142, 'gini = 0.277\\nsamples = 523\\nvalue = [436, 87]\\nclass = churn'),\n",
       " Text(0.8524590163934426, 0.21428571428571427, 'duration <= 1.536\\ngini = 0.449\\nsamples = 847\\nvalue = [559, 288]\\nclass = churn'),\n",
       " Text(0.8442622950819673, 0.07142857142857142, 'gini = 0.384\\nsamples = 474\\nvalue = [351, 123]\\nclass = churn'),\n",
       " Text(0.860655737704918, 0.07142857142857142, 'gini = 0.493\\nsamples = 373\\nvalue = [208.0, 165.0]\\nclass = churn'),\n",
       " Text(0.9344262295081968, 0.5, 'contact_telephone <= 0.5\\ngini = 0.491\\nsamples = 1106\\nvalue = [479, 627]\\nclass = no churn'),\n",
       " Text(0.9016393442622951, 0.35714285714285715, 'day_of_week_fri <= 0.5\\ngini = 0.478\\nsamples = 719\\nvalue = [284, 435]\\nclass = no churn'),\n",
       " Text(0.8852459016393442, 0.21428571428571427, 'euribor3m <= -1.246\\ngini = 0.467\\nsamples = 582\\nvalue = [216, 366]\\nclass = no churn'),\n",
       " Text(0.8770491803278688, 0.07142857142857142, 'gini = 0.412\\nsamples = 186\\nvalue = [54.0, 132.0]\\nclass = no churn'),\n",
       " Text(0.8934426229508197, 0.07142857142857142, 'gini = 0.483\\nsamples = 396\\nvalue = [162, 234]\\nclass = no churn'),\n",
       " Text(0.9180327868852459, 0.21428571428571427, 'duration <= 5.055\\ngini = 0.5\\nsamples = 137\\nvalue = [68, 69]\\nclass = no churn'),\n",
       " Text(0.9098360655737705, 0.07142857142857142, 'gini = 0.499\\nsamples = 126\\nvalue = [66, 60]\\nclass = churn'),\n",
       " Text(0.9262295081967213, 0.07142857142857142, 'gini = 0.298\\nsamples = 11\\nvalue = [2, 9]\\nclass = no churn'),\n",
       " Text(0.9672131147540983, 0.35714285714285715, 'duration <= 2.303\\ngini = 0.5\\nsamples = 387\\nvalue = [195, 192]\\nclass = churn'),\n",
       " Text(0.9508196721311475, 0.21428571428571427, 'duration <= 2.274\\ngini = 0.32\\nsamples = 20\\nvalue = [16, 4]\\nclass = churn'),\n",
       " Text(0.9426229508196722, 0.07142857142857142, 'gini = 0.48\\nsamples = 10\\nvalue = [6, 4]\\nclass = churn'),\n",
       " Text(0.9590163934426229, 0.07142857142857142, 'gini = 0.0\\nsamples = 10\\nvalue = [10, 0]\\nclass = churn'),\n",
       " Text(0.9836065573770492, 0.21428571428571427, 'euribor3m <= -1.323\\ngini = 0.5\\nsamples = 367\\nvalue = [179, 188]\\nclass = no churn'),\n",
       " Text(0.9754098360655737, 0.07142857142857142, 'gini = 0.0\\nsamples = 5\\nvalue = [5, 0]\\nclass = churn'),\n",
       " Text(0.9918032786885246, 0.07142857142857142, 'gini = 0.499\\nsamples = 362\\nvalue = [174, 188]\\nclass = no churn')]"
      ]
     },
     "execution_count": 40,
     "metadata": {},
     "output_type": "execute_result"
    },
    {
     "data": {
      "image/png": "[encoded data removed]",
      "text/plain": [
       "<Figure size 640x480 with 1 Axes>"
      ]
     },
     "metadata": {},
     "output_type": "display_data"
    }
   ],
   "source": [
    "from sklearn import tree\n",
    "\n",
    "tree.plot_tree(dtree, \n",
    "                   feature_names=feature_names[:-1],  \n",
    "                   class_names=['churn', 'no churn'],\n",
    "                   filled=True)"
   ]
  },
  {
   "cell_type": "code",
   "execution_count": 38,
   "metadata": {},
   "outputs": [
    {
     "name": "stderr",
     "output_type": "stream",
     "text": [
      "/Users/ezekielabuhoff/anaconda3/lib/python3.11/site-packages/sklearn/linear_model/_logistic.py:1186: UserWarning: Setting penalty=None will ignore the C and l1_ratio parameters\n",
      "  warnings.warn(\n",
      "/Users/ezekielabuhoff/anaconda3/lib/python3.11/site-packages/sklearn/linear_model/_logistic.py:469: ConvergenceWarning: lbfgs failed to converge (status=1):\n",
      "STOP: TOTAL NO. of ITERATIONS REACHED LIMIT.\n",
      "\n",
      "Increase the number of iterations (max_iter) or scale the data as shown in:\n",
      "    https://scikit-learn.org/stable/modules/preprocessing.html\n",
      "Please also refer to the documentation for alternative solver options:\n",
      "    https://scikit-learn.org/stable/modules/linear_model.html#logistic-regression\n",
      "  n_iter_i = _check_optimize_result(\n",
      "/Users/ezekielabuhoff/anaconda3/lib/python3.11/site-packages/sklearn/linear_model/_logistic.py:1186: UserWarning: Setting penalty=None will ignore the C and l1_ratio parameters\n",
      "  warnings.warn(\n",
      "/Users/ezekielabuhoff/anaconda3/lib/python3.11/site-packages/sklearn/linear_model/_logistic.py:1186: UserWarning: Setting penalty=None will ignore the C and l1_ratio parameters\n",
      "  warnings.warn(\n",
      "/Users/ezekielabuhoff/anaconda3/lib/python3.11/site-packages/sklearn/linear_model/_logistic.py:1186: UserWarning: Setting penalty=None will ignore the C and l1_ratio parameters\n",
      "  warnings.warn(\n",
      "/Users/ezekielabuhoff/anaconda3/lib/python3.11/site-packages/sklearn/linear_model/_logistic.py:469: ConvergenceWarning: lbfgs failed to converge (status=1):\n",
      "STOP: TOTAL NO. of ITERATIONS REACHED LIMIT.\n",
      "\n",
      "Increase the number of iterations (max_iter) or scale the data as shown in:\n",
      "    https://scikit-learn.org/stable/modules/preprocessing.html\n",
      "Please also refer to the documentation for alternative solver options:\n",
      "    https://scikit-learn.org/stable/modules/linear_model.html#logistic-regression\n",
      "  n_iter_i = _check_optimize_result(\n",
      "/Users/ezekielabuhoff/anaconda3/lib/python3.11/site-packages/sklearn/linear_model/_logistic.py:1186: UserWarning: Setting penalty=None will ignore the C and l1_ratio parameters\n",
      "  warnings.warn(\n",
      "/Users/ezekielabuhoff/anaconda3/lib/python3.11/site-packages/sklearn/linear_model/_logistic.py:1186: UserWarning: Setting penalty=None will ignore the C and l1_ratio parameters\n",
      "  warnings.warn(\n",
      "/Users/ezekielabuhoff/anaconda3/lib/python3.11/site-packages/sklearn/linear_model/_logistic.py:469: ConvergenceWarning: lbfgs failed to converge (status=1):\n",
      "STOP: TOTAL NO. of ITERATIONS REACHED LIMIT.\n",
      "\n",
      "Increase the number of iterations (max_iter) or scale the data as shown in:\n",
      "    https://scikit-learn.org/stable/modules/preprocessing.html\n",
      "Please also refer to the documentation for alternative solver options:\n",
      "    https://scikit-learn.org/stable/modules/linear_model.html#logistic-regression\n",
      "  n_iter_i = _check_optimize_result(\n",
      "/Users/ezekielabuhoff/anaconda3/lib/python3.11/site-packages/sklearn/linear_model/_logistic.py:469: ConvergenceWarning: lbfgs failed to converge (status=1):\n",
      "STOP: TOTAL NO. of ITERATIONS REACHED LIMIT.\n",
      "\n",
      "Increase the number of iterations (max_iter) or scale the data as shown in:\n",
      "    https://scikit-learn.org/stable/modules/preprocessing.html\n",
      "Please also refer to the documentation for alternative solver options:\n",
      "    https://scikit-learn.org/stable/modules/linear_model.html#logistic-regression\n",
      "  n_iter_i = _check_optimize_result(\n",
      "/Users/ezekielabuhoff/anaconda3/lib/python3.11/site-packages/sklearn/linear_model/_logistic.py:469: ConvergenceWarning: lbfgs failed to converge (status=1):\n",
      "STOP: TOTAL NO. of ITERATIONS REACHED LIMIT.\n",
      "\n",
      "Increase the number of iterations (max_iter) or scale the data as shown in:\n",
      "    https://scikit-learn.org/stable/modules/preprocessing.html\n",
      "Please also refer to the documentation for alternative solver options:\n",
      "    https://scikit-learn.org/stable/modules/linear_model.html#logistic-regression\n",
      "  n_iter_i = _check_optimize_result(\n",
      "/Users/ezekielabuhoff/anaconda3/lib/python3.11/site-packages/sklearn/linear_model/_logistic.py:1186: UserWarning: Setting penalty=None will ignore the C and l1_ratio parameters\n",
      "  warnings.warn(\n",
      "/Users/ezekielabuhoff/anaconda3/lib/python3.11/site-packages/sklearn/linear_model/_logistic.py:469: ConvergenceWarning: lbfgs failed to converge (status=1):\n",
      "STOP: TOTAL NO. of ITERATIONS REACHED LIMIT.\n",
      "\n",
      "Increase the number of iterations (max_iter) or scale the data as shown in:\n",
      "    https://scikit-learn.org/stable/modules/preprocessing.html\n",
      "Please also refer to the documentation for alternative solver options:\n",
      "    https://scikit-learn.org/stable/modules/linear_model.html#logistic-regression\n",
      "  n_iter_i = _check_optimize_result(\n",
      "/Users/ezekielabuhoff/anaconda3/lib/python3.11/site-packages/sklearn/linear_model/_logistic.py:1186: UserWarning: Setting penalty=None will ignore the C and l1_ratio parameters\n",
      "  warnings.warn(\n",
      "/Users/ezekielabuhoff/anaconda3/lib/python3.11/site-packages/sklearn/linear_model/_logistic.py:1186: UserWarning: Setting penalty=None will ignore the C and l1_ratio parameters\n",
      "  warnings.warn(\n",
      "/Users/ezekielabuhoff/anaconda3/lib/python3.11/site-packages/sklearn/linear_model/_logistic.py:469: ConvergenceWarning: lbfgs failed to converge (status=1):\n",
      "STOP: TOTAL NO. of ITERATIONS REACHED LIMIT.\n",
      "\n",
      "Increase the number of iterations (max_iter) or scale the data as shown in:\n",
      "    https://scikit-learn.org/stable/modules/preprocessing.html\n",
      "Please also refer to the documentation for alternative solver options:\n",
      "    https://scikit-learn.org/stable/modules/linear_model.html#logistic-regression\n",
      "  n_iter_i = _check_optimize_result(\n",
      "/Users/ezekielabuhoff/anaconda3/lib/python3.11/site-packages/sklearn/linear_model/_logistic.py:1186: UserWarning: Setting penalty=None will ignore the C and l1_ratio parameters\n",
      "  warnings.warn(\n",
      "/Users/ezekielabuhoff/anaconda3/lib/python3.11/site-packages/sklearn/linear_model/_logistic.py:469: ConvergenceWarning: lbfgs failed to converge (status=1):\n",
      "STOP: TOTAL NO. of ITERATIONS REACHED LIMIT.\n",
      "\n",
      "Increase the number of iterations (max_iter) or scale the data as shown in:\n",
      "    https://scikit-learn.org/stable/modules/preprocessing.html\n",
      "Please also refer to the documentation for alternative solver options:\n",
      "    https://scikit-learn.org/stable/modules/linear_model.html#logistic-regression\n",
      "  n_iter_i = _check_optimize_result(\n",
      "/Users/ezekielabuhoff/anaconda3/lib/python3.11/site-packages/sklearn/linear_model/_logistic.py:1186: UserWarning: Setting penalty=None will ignore the C and l1_ratio parameters\n",
      "  warnings.warn(\n",
      "/Users/ezekielabuhoff/anaconda3/lib/python3.11/site-packages/sklearn/linear_model/_logistic.py:1186: UserWarning: Setting penalty=None will ignore the C and l1_ratio parameters\n",
      "  warnings.warn(\n",
      "/Users/ezekielabuhoff/anaconda3/lib/python3.11/site-packages/sklearn/model_selection/_validation.py:547: FitFailedWarning: \n",
      "30 fits failed out of a total of 60.\n",
      "The score on these train-test partitions for these parameters will be set to nan.\n",
      "If these failures are not expected, you can try to debug them by setting error_score='raise'.\n",
      "\n",
      "Below are more details about the failures:\n",
      "--------------------------------------------------------------------------------\n",
      "15 fits failed with the following error:\n",
      "Traceback (most recent call last):\n",
      "  File \"/Users/ezekielabuhoff/anaconda3/lib/python3.11/site-packages/sklearn/model_selection/_validation.py\", line 895, in _fit_and_score\n",
      "    estimator.fit(X_train, y_train, **fit_params)\n",
      "  File \"/Users/ezekielabuhoff/anaconda3/lib/python3.11/site-packages/sklearn/base.py\", line 1474, in wrapper\n",
      "    return fit_method(estimator, *args, **kwargs)\n",
      "           ^^^^^^^^^^^^^^^^^^^^^^^^^^^^^^^^^^^^^^\n",
      "  File \"/Users/ezekielabuhoff/anaconda3/lib/python3.11/site-packages/sklearn/linear_model/_logistic.py\", line 1172, in fit\n",
      "    solver = _check_solver(self.solver, self.penalty, self.dual)\n",
      "             ^^^^^^^^^^^^^^^^^^^^^^^^^^^^^^^^^^^^^^^^^^^^^^^^^^^\n",
      "  File \"/Users/ezekielabuhoff/anaconda3/lib/python3.11/site-packages/sklearn/linear_model/_logistic.py\", line 67, in _check_solver\n",
      "    raise ValueError(\n",
      "ValueError: Solver lbfgs supports only 'l2' or None penalties, got l1 penalty.\n",
      "\n",
      "--------------------------------------------------------------------------------\n",
      "15 fits failed with the following error:\n",
      "Traceback (most recent call last):\n",
      "  File \"/Users/ezekielabuhoff/anaconda3/lib/python3.11/site-packages/sklearn/model_selection/_validation.py\", line 895, in _fit_and_score\n",
      "    estimator.fit(X_train, y_train, **fit_params)\n",
      "  File \"/Users/ezekielabuhoff/anaconda3/lib/python3.11/site-packages/sklearn/base.py\", line 1474, in wrapper\n",
      "    return fit_method(estimator, *args, **kwargs)\n",
      "           ^^^^^^^^^^^^^^^^^^^^^^^^^^^^^^^^^^^^^^\n",
      "  File \"/Users/ezekielabuhoff/anaconda3/lib/python3.11/site-packages/sklearn/linear_model/_logistic.py\", line 1172, in fit\n",
      "    solver = _check_solver(self.solver, self.penalty, self.dual)\n",
      "             ^^^^^^^^^^^^^^^^^^^^^^^^^^^^^^^^^^^^^^^^^^^^^^^^^^^\n",
      "  File \"/Users/ezekielabuhoff/anaconda3/lib/python3.11/site-packages/sklearn/linear_model/_logistic.py\", line 67, in _check_solver\n",
      "    raise ValueError(\n",
      "ValueError: Solver lbfgs supports only 'l2' or None penalties, got elasticnet penalty.\n",
      "\n",
      "  warnings.warn(some_fits_failed_message, FitFailedWarning)\n",
      "/Users/ezekielabuhoff/anaconda3/lib/python3.11/site-packages/sklearn/model_selection/_search.py:1051: UserWarning: One or more of the test scores are non-finite: [       nan 0.66776193        nan 0.65712752        nan 0.6588028\n",
      "        nan 0.65712752        nan 0.65756455        nan 0.65712752\n",
      "        nan 0.65666621        nan 0.65712752        nan 0.65642342\n",
      "        nan 0.65712752]\n",
      "  warnings.warn(\n"
     ]
    },
    {
     "data": {
      "text/plain": [
       "{'C': 0.01, 'penalty': 'l2'}"
      ]
     },
     "execution_count": 38,
     "metadata": {},
     "output_type": "execute_result"
    }
   ],
   "source": [
    "from sklearn.model_selection import GridSearchCV\n",
    "\n",
    "lr_grid = GridSearchCV(logreg, param_grid={\n",
    "    'penalty': ['l1', 'l2', 'elasticnet', None],\n",
    "    'C': [0.01, 0.1, 1, 10, 100]\n",
    "}, cv=3)\n",
    "lr_grid.fit(X, y)\n",
    "lr_best = lr_grid.best_estimator_\n",
    "lr_grid.best_params_"
   ]
  },
  {
   "cell_type": "code",
   "execution_count": 35,
   "metadata": {},
   "outputs": [
    {
     "data": {
      "text/plain": [
       "{'n_neighbors': 15}"
      ]
     },
     "execution_count": 35,
     "metadata": {},
     "output_type": "execute_result"
    }
   ],
   "source": [
    "knn_grid = GridSearchCV(KNeighborsClassifier(), param_grid={\n",
    "    'n_neighbors': [3, 5, 7, 9, 11, 13, 15]\n",
    "}, cv=3)\n",
    "knn_grid.fit(X, y)\n",
    "knn_best = knn_grid.best_estimator_\n",
    "knn_grid.best_params_"
   ]
  },
  {
   "cell_type": "code",
   "execution_count": 36,
   "metadata": {},
   "outputs": [
    {
     "data": {
      "text/plain": [
       "{'kernel': 'sigmoid'}"
      ]
     },
     "execution_count": 36,
     "metadata": {},
     "output_type": "execute_result"
    }
   ],
   "source": [
    "svc_grid = GridSearchCV(SVC(), param_grid={\n",
    "    'kernel': ['linear', 'poly', 'rbf', 'sigmoid']\n",
    "}, cv=3)\n",
    "svc_grid.fit(X, y)\n",
    "svc_best = svc_grid.best_estimator_\n",
    "svc_grid.best_params_"
   ]
  },
  {
   "cell_type": "code",
   "execution_count": 37,
   "metadata": {},
   "outputs": [
    {
     "data": {
      "text/plain": [
       "{'max_depth': 2, 'min_samples_leaf': 1, 'min_samples_split': 2}"
      ]
     },
     "execution_count": 37,
     "metadata": {},
     "output_type": "execute_result"
    }
   ],
   "source": [
    "tree_grid = GridSearchCV(dtree, param_grid={\n",
    "    'max_depth': [2, 3, 4, 5, 6, 7, 8],\n",
    "    'min_samples_split': [2, 10, 20, 30],\n",
    "    'min_samples_leaf': [1, 2, 4, 6, 8]\n",
    "}, cv=3)\n",
    "tree_grid.fit(X, y)\n",
    "tree_best = tree_grid.best_estimator_\n",
    "tree_grid.best_params_"
   ]
  },
  {
   "cell_type": "code",
   "execution_count": 44,
   "metadata": {},
   "outputs": [
    {
     "name": "stdout",
     "output_type": "stream",
     "text": [
      "Logistic Regression Grid Model Score: 0.911750424860403\n",
      "KNN Grid Model Score: 0.9156348628307842\n",
      "Support Vector Classifier Model Score: 0.8665938334547221\n",
      "Decision Tree Grid Model Score: 0.902282107307599\n"
     ]
    }
   ],
   "source": [
    "print('Logistic Regression Grid Model Score: ' + str(lr_best.score(X_test, y_test)))\n",
    "print('KNN Grid Model Score: ' + str(knn_best.score(X_test, y_test)))\n",
    "print('Support Vector Classifier Model Score: ' + str(svc_best.score(X_test, y_test)))\n",
    "print('Decision Tree Grid Model Score: ' + str(tree_best.score(X_test, y_test)))"
   ]
  },
  {
   "cell_type": "code",
   "execution_count": null,
   "metadata": {},
   "outputs": [],
   "source": [
    "# The grids I used for each model sometimes produced interesting variations on the\n",
    "# initial models, but didn't vastly improve upon the initial models' scores.\n",
    "# The greatest improvement was for logistic regression, where the score moved\n",
    "# from 0.9111 to 0.9175 by using a C value of 0.01 and l2 as the penalty.\n",
    "# This shift is so modest that I suspect further experimentation with\n",
    "# hyperparameters or perhaps better preprocessing of the data could yield superior results."
   ]
  },
  {
   "cell_type": "code",
   "execution_count": null,
   "metadata": {},
   "outputs": [],
   "source": []
  },
  {
   "cell_type": "markdown",
   "metadata": {},
   "source": [
    "##### Questions"
   ]
  }
 ],
 "metadata": {
  "kernelspec": {
   "display_name": "Python 3 (ipykernel)",
   "language": "python",
   "name": "python3"
  },
  "language_info": {
   "codemirror_mode": {
    "name": "ipython",
    "version": 3
   },
   "file_extension": ".py",
   "mimetype": "text/x-python",
   "name": "python",
   "nbconvert_exporter": "python",
   "pygments_lexer": "ipython3",
   "version": "3.11.5"
  },
  "widgets": {
   "application/vnd.jupyter.widget-state+json": {
    "state": {},
    "version_major": 2,
    "version_minor": 0
   }
  }
 },
 "nbformat": 4,
 "nbformat_minor": 4
}
